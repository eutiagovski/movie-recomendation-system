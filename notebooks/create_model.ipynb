{
 "cells": [
  {
   "cell_type": "code",
   "execution_count": 30,
   "metadata": {},
   "outputs": [
    {
     "name": "stdout",
     "output_type": "stream",
     "text": [
      "Requirement already satisfied: scikit-learn in c:\\users\\tiago machado\\projetos\\machine learning\\movie-recomendation-system\\.venv\\lib\\site-packages (1.4.2)\n",
      "Requirement already satisfied: numpy in c:\\users\\tiago machado\\projetos\\machine learning\\movie-recomendation-system\\.venv\\lib\\site-packages (1.26.4)\n",
      "Requirement already satisfied: unidecode in c:\\users\\tiago machado\\projetos\\machine learning\\movie-recomendation-system\\.venv\\lib\\site-packages (1.3.8)\n",
      "Requirement already satisfied: nltk in c:\\users\\tiago machado\\projetos\\machine learning\\movie-recomendation-system\\.venv\\lib\\site-packages (3.8.1)\n",
      "Requirement already satisfied: scipy>=1.6.0 in c:\\users\\tiago machado\\projetos\\machine learning\\movie-recomendation-system\\.venv\\lib\\site-packages (from scikit-learn) (1.13.0)\n",
      "Requirement already satisfied: joblib>=1.2.0 in c:\\users\\tiago machado\\projetos\\machine learning\\movie-recomendation-system\\.venv\\lib\\site-packages (from scikit-learn) (1.4.0)\n",
      "Requirement already satisfied: threadpoolctl>=2.0.0 in c:\\users\\tiago machado\\projetos\\machine learning\\movie-recomendation-system\\.venv\\lib\\site-packages (from scikit-learn) (3.4.0)\n",
      "Requirement already satisfied: click in c:\\users\\tiago machado\\projetos\\machine learning\\movie-recomendation-system\\.venv\\lib\\site-packages (from nltk) (8.1.7)\n",
      "Requirement already satisfied: regex>=2021.8.3 in c:\\users\\tiago machado\\projetos\\machine learning\\movie-recomendation-system\\.venv\\lib\\site-packages (from nltk) (2023.12.25)\n",
      "Requirement already satisfied: tqdm in c:\\users\\tiago machado\\projetos\\machine learning\\movie-recomendation-system\\.venv\\lib\\site-packages (from nltk) (4.66.2)\n",
      "Requirement already satisfied: colorama in c:\\users\\tiago machado\\projetos\\machine learning\\movie-recomendation-system\\.venv\\lib\\site-packages (from click->nltk) (0.4.6)\n"
     ]
    },
    {
     "name": "stderr",
     "output_type": "stream",
     "text": [
      "\n",
      "[notice] A new release of pip available: 22.3.1 -> 24.0\n",
      "[notice] To update, run: python.exe -m pip install --upgrade pip\n"
     ]
    }
   ],
   "source": [
    "# install the necessary packages\n",
    "!python -m pip install -U scikit-learn numpy unidecode nltk"
   ]
  },
  {
   "cell_type": "code",
   "execution_count": 31,
   "metadata": {},
   "outputs": [
    {
     "name": "stderr",
     "output_type": "stream",
     "text": [
      "[nltk_data] Downloading package stopwords to C:\\Users\\Tiago\n",
      "[nltk_data]     Machado\\AppData\\Roaming\\nltk_data...\n",
      "[nltk_data]   Package stopwords is already up-to-date!\n"
     ]
    },
    {
     "data": {
      "text/plain": [
       "True"
      ]
     },
     "execution_count": 31,
     "metadata": {},
     "output_type": "execute_result"
    }
   ],
   "source": [
    "# import libraries\n",
    "\n",
    "import numpy as np\n",
    "import pandas as pd\n",
    "\n",
    "from ast import literal_eval\n",
    "\n",
    "from sklearn.feature_extraction.text import CountVectorizer\n",
    "from sklearn.metrics.pairwise import cosine_similarity\n",
    "\n",
    "from unidecode import unidecode\n",
    "\n",
    "import nltk\n",
    "\n",
    "nltk.download('stopwords')"
   ]
  },
  {
   "cell_type": "code",
   "execution_count": 32,
   "metadata": {},
   "outputs": [
    {
     "data": {
      "text/html": [
       "<div>\n",
       "<style scoped>\n",
       "    .dataframe tbody tr th:only-of-type {\n",
       "        vertical-align: middle;\n",
       "    }\n",
       "\n",
       "    .dataframe tbody tr th {\n",
       "        vertical-align: top;\n",
       "    }\n",
       "\n",
       "    .dataframe thead th {\n",
       "        text-align: right;\n",
       "    }\n",
       "</style>\n",
       "<table border=\"1\" class=\"dataframe\">\n",
       "  <thead>\n",
       "    <tr style=\"text-align: right;\">\n",
       "      <th></th>\n",
       "      <th>tconst</th>\n",
       "      <th>titleType</th>\n",
       "      <th>primaryTitle</th>\n",
       "      <th>primaryTitle_ptBr</th>\n",
       "      <th>overview</th>\n",
       "      <th>genres</th>\n",
       "      <th>principals</th>\n",
       "      <th>crew</th>\n",
       "      <th>startYear</th>\n",
       "      <th>runtimeMinutes</th>\n",
       "      <th>averageRating</th>\n",
       "      <th>numVotes</th>\n",
       "      <th>isAdult</th>\n",
       "      <th>imdb_link</th>\n",
       "      <th>image_url</th>\n",
       "    </tr>\n",
       "  </thead>\n",
       "  <tbody>\n",
       "    <tr>\n",
       "      <th>0</th>\n",
       "      <td>tt0002130</td>\n",
       "      <td>movie</td>\n",
       "      <td>Dante's Inferno</td>\n",
       "      <td>Inferno</td>\n",
       "      <td>Loosely adapted from Dante's Divine Comedy and...</td>\n",
       "      <td>Adventure,Drama,Fantasy</td>\n",
       "      <td>[{'nconst': 'nm0660139', 'primaryName': 'Salva...</td>\n",
       "      <td>[{'nconst': 'nm0078205', 'primaryName': 'Franc...</td>\n",
       "      <td>1911</td>\n",
       "      <td>71</td>\n",
       "      <td>7.0</td>\n",
       "      <td>3430</td>\n",
       "      <td>0</td>\n",
       "      <td>https://www.imdb.com/title/tt0002130/?ref_=sr_t_1</td>\n",
       "      <td>https://m.media-amazon.com/images/M/MV5BMzY0NT...</td>\n",
       "    </tr>\n",
       "    <tr>\n",
       "      <th>1</th>\n",
       "      <td>tt0002844</td>\n",
       "      <td>movie</td>\n",
       "      <td>Fantômas: In the Shadow of the Guillotine</td>\n",
       "      <td>Fantômas - À l'ombre de la guillotine</td>\n",
       "      <td>Inspector Juve is tasked to investigate and ca...</td>\n",
       "      <td>Crime,Drama</td>\n",
       "      <td>[{'nconst': 'nm0622772', 'primaryName': 'René ...</td>\n",
       "      <td>[{'nconst': 'nm0275421', 'primaryName': 'Louis...</td>\n",
       "      <td>1913</td>\n",
       "      <td>54</td>\n",
       "      <td>6.9</td>\n",
       "      <td>2477</td>\n",
       "      <td>0</td>\n",
       "      <td>https://www.imdb.com/title/tt0002844/?ref_=sr_t_2</td>\n",
       "      <td>https://m.media-amazon.com/images/M/MV5BMTQxND...</td>\n",
       "    </tr>\n",
       "    <tr>\n",
       "      <th>2</th>\n",
       "      <td>tt0003014</td>\n",
       "      <td>movie</td>\n",
       "      <td>Ingeborg Holm</td>\n",
       "      <td>Ingeborg Holm</td>\n",
       "      <td>Financial struggles separate a single mother f...</td>\n",
       "      <td>Drama</td>\n",
       "      <td>[{'nconst': 'nm0096737', 'primaryName': 'Hilda...</td>\n",
       "      <td>[{'nconst': 'nm0803705', 'primaryName': 'Victo...</td>\n",
       "      <td>1913</td>\n",
       "      <td>96</td>\n",
       "      <td>7.0</td>\n",
       "      <td>1422</td>\n",
       "      <td>0</td>\n",
       "      <td>https://www.imdb.com/title/tt0003014/?ref_=sr_t_5</td>\n",
       "      <td>https://m.media-amazon.com/images/M/MV5BMTQyND...</td>\n",
       "    </tr>\n",
       "    <tr>\n",
       "      <th>3</th>\n",
       "      <td>tt0003037</td>\n",
       "      <td>movie</td>\n",
       "      <td>Fantomas: The Man in Black</td>\n",
       "      <td>Juve contre Fantômas</td>\n",
       "      <td>In Part Two of Louis Feuillade's 5 1/2-hour ep...</td>\n",
       "      <td>Crime,Drama</td>\n",
       "      <td>[{'nconst': 'nm0622772', 'primaryName': 'René ...</td>\n",
       "      <td>[{'nconst': 'nm0275421', 'primaryName': 'Louis...</td>\n",
       "      <td>1913</td>\n",
       "      <td>61</td>\n",
       "      <td>6.9</td>\n",
       "      <td>1676</td>\n",
       "      <td>0</td>\n",
       "      <td>https://www.imdb.com/title/tt0003037/?ref_=sr_t_4</td>\n",
       "      <td>https://m.media-amazon.com/images/M/MV5BMTFkM2...</td>\n",
       "    </tr>\n",
       "    <tr>\n",
       "      <th>4</th>\n",
       "      <td>tt0003165</td>\n",
       "      <td>movie</td>\n",
       "      <td>Fantômas: The Dead Man Who Killed</td>\n",
       "      <td>Le mort qui tue</td>\n",
       "      <td>After a body disappears from inside the prison...</td>\n",
       "      <td>Crime,Drama,Mystery</td>\n",
       "      <td>[{'nconst': 'nm0622772', 'primaryName': 'René ...</td>\n",
       "      <td>[{'nconst': 'nm0275421', 'primaryName': 'Louis...</td>\n",
       "      <td>1913</td>\n",
       "      <td>90</td>\n",
       "      <td>6.9</td>\n",
       "      <td>1330</td>\n",
       "      <td>0</td>\n",
       "      <td>https://www.imdb.com/title/tt0003165/?ref_=sr_t_6</td>\n",
       "      <td>https://m.media-amazon.com/images/M/MV5BMjQwMT...</td>\n",
       "    </tr>\n",
       "  </tbody>\n",
       "</table>\n",
       "</div>"
      ],
      "text/plain": [
       "      tconst titleType                               primaryTitle  \\\n",
       "0  tt0002130     movie                            Dante's Inferno   \n",
       "1  tt0002844     movie  Fantômas: In the Shadow of the Guillotine   \n",
       "2  tt0003014     movie                              Ingeborg Holm   \n",
       "3  tt0003037     movie                 Fantomas: The Man in Black   \n",
       "4  tt0003165     movie          Fantômas: The Dead Man Who Killed   \n",
       "\n",
       "                       primaryTitle_ptBr  \\\n",
       "0                                Inferno   \n",
       "1  Fantômas - À l'ombre de la guillotine   \n",
       "2                          Ingeborg Holm   \n",
       "3                   Juve contre Fantômas   \n",
       "4                        Le mort qui tue   \n",
       "\n",
       "                                            overview                   genres  \\\n",
       "0  Loosely adapted from Dante's Divine Comedy and...  Adventure,Drama,Fantasy   \n",
       "1  Inspector Juve is tasked to investigate and ca...              Crime,Drama   \n",
       "2  Financial struggles separate a single mother f...                    Drama   \n",
       "3  In Part Two of Louis Feuillade's 5 1/2-hour ep...              Crime,Drama   \n",
       "4  After a body disappears from inside the prison...      Crime,Drama,Mystery   \n",
       "\n",
       "                                          principals  \\\n",
       "0  [{'nconst': 'nm0660139', 'primaryName': 'Salva...   \n",
       "1  [{'nconst': 'nm0622772', 'primaryName': 'René ...   \n",
       "2  [{'nconst': 'nm0096737', 'primaryName': 'Hilda...   \n",
       "3  [{'nconst': 'nm0622772', 'primaryName': 'René ...   \n",
       "4  [{'nconst': 'nm0622772', 'primaryName': 'René ...   \n",
       "\n",
       "                                                crew  startYear  \\\n",
       "0  [{'nconst': 'nm0078205', 'primaryName': 'Franc...       1911   \n",
       "1  [{'nconst': 'nm0275421', 'primaryName': 'Louis...       1913   \n",
       "2  [{'nconst': 'nm0803705', 'primaryName': 'Victo...       1913   \n",
       "3  [{'nconst': 'nm0275421', 'primaryName': 'Louis...       1913   \n",
       "4  [{'nconst': 'nm0275421', 'primaryName': 'Louis...       1913   \n",
       "\n",
       "  runtimeMinutes  averageRating  numVotes  isAdult  \\\n",
       "0             71            7.0      3430        0   \n",
       "1             54            6.9      2477        0   \n",
       "2             96            7.0      1422        0   \n",
       "3             61            6.9      1676        0   \n",
       "4             90            6.9      1330        0   \n",
       "\n",
       "                                           imdb_link  \\\n",
       "0  https://www.imdb.com/title/tt0002130/?ref_=sr_t_1   \n",
       "1  https://www.imdb.com/title/tt0002844/?ref_=sr_t_2   \n",
       "2  https://www.imdb.com/title/tt0003014/?ref_=sr_t_5   \n",
       "3  https://www.imdb.com/title/tt0003037/?ref_=sr_t_4   \n",
       "4  https://www.imdb.com/title/tt0003165/?ref_=sr_t_6   \n",
       "\n",
       "                                           image_url  \n",
       "0  https://m.media-amazon.com/images/M/MV5BMzY0NT...  \n",
       "1  https://m.media-amazon.com/images/M/MV5BMTQxND...  \n",
       "2  https://m.media-amazon.com/images/M/MV5BMTQyND...  \n",
       "3  https://m.media-amazon.com/images/M/MV5BMTFkM2...  \n",
       "4  https://m.media-amazon.com/images/M/MV5BMjQwMT...  "
      ]
     },
     "execution_count": 32,
     "metadata": {},
     "output_type": "execute_result"
    }
   ],
   "source": [
    "# import movies dataset\n",
    "\n",
    "movies = pd.read_csv('../datasets/movies.tsv', sep='\\t')\n",
    "movies.head()"
   ]
  },
  {
   "cell_type": "markdown",
   "metadata": {},
   "source": [
    "### Pre process data"
   ]
  },
  {
   "cell_type": "code",
   "execution_count": 33,
   "metadata": {},
   "outputs": [
    {
     "data": {
      "text/plain": [
       "0"
      ]
     },
     "execution_count": 33,
     "metadata": {},
     "output_type": "execute_result"
    }
   ],
   "source": [
    "# check if there's any duplicated movie in the dataset\n",
    "movies.duplicated(subset='tconst').sum()"
   ]
  },
  {
   "cell_type": "code",
   "execution_count": 34,
   "metadata": {},
   "outputs": [
    {
     "name": "stdout",
     "output_type": "stream",
     "text": [
      "tconst                0\n",
      "titleType             0\n",
      "primaryTitle          0\n",
      "primaryTitle_ptBr     0\n",
      "overview             64\n",
      "genres                0\n",
      "principals            0\n",
      "crew                  0\n",
      "startYear             0\n",
      "runtimeMinutes        0\n",
      "averageRating         0\n",
      "numVotes              0\n",
      "isAdult               0\n",
      "imdb_link             0\n",
      "image_url             8\n",
      "dtype: int64\n"
     ]
    },
    {
     "data": {
      "text/plain": [
       "tconst               0\n",
       "titleType            0\n",
       "primaryTitle         0\n",
       "primaryTitle_ptBr    0\n",
       "overview             0\n",
       "genres               0\n",
       "principals           0\n",
       "crew                 0\n",
       "startYear            0\n",
       "runtimeMinutes       0\n",
       "averageRating        0\n",
       "numVotes             0\n",
       "isAdult              0\n",
       "imdb_link            0\n",
       "image_url            5\n",
       "dtype: int64"
      ]
     },
     "execution_count": 34,
     "metadata": {},
     "output_type": "execute_result"
    }
   ],
   "source": [
    "# checking if there's any null value in the dataset\n",
    "print(movies.isnull().sum())\n",
    "\n",
    "movies = movies.dropna(subset='overview')\n",
    "movies.isnull().sum()"
   ]
  },
  {
   "cell_type": "code",
   "execution_count": 35,
   "metadata": {},
   "outputs": [],
   "source": [
    "# 'unpack' the crew and the principals \n",
    "features = ['crew', 'principals']\n",
    "\n",
    "for feature in features:\n",
    "  movies[feature] = movies[feature].apply(literal_eval)"
   ]
  },
  {
   "cell_type": "code",
   "execution_count": 36,
   "metadata": {},
   "outputs": [],
   "source": [
    "# get the primary director for the title\n",
    "def get_director(x):\n",
    "  for i in x:\n",
    "    if i['category'] == 'director':\n",
    "      return i['primaryName']\n",
    "    return np.nan\n",
    "  # return\n",
    "\n",
    "movies['director'] = movies['crew'].apply(get_director)"
   ]
  },
  {
   "cell_type": "code",
   "execution_count": 37,
   "metadata": {},
   "outputs": [],
   "source": [
    "# get the actors for the titles\n",
    "def get_list(x, filter_actors=True):\n",
    "  if isinstance(x, list):\n",
    "    if filter_actors: names = [i['primaryName'] for i in x if i['category'] == 'actor' or i['category'] == 'actress' or i['category'] == 'self']\n",
    "    else: names = [i['primaryName'] for i in x]\n",
    "    return names\n",
    "  return []\n",
    "\n",
    "movies['cast'] = movies['principals'].apply(get_list)"
   ]
  },
  {
   "cell_type": "code",
   "execution_count": 38,
   "metadata": {},
   "outputs": [],
   "source": [
    "# cleaning our data\n",
    "def clean_data(x):\n",
    "  if isinstance(x, list):\n",
    "    return [str.lower(i.replace(' ', '')) for i in x]\n",
    "\n",
    "  else:\n",
    "    if isinstance(x, str):\n",
    "      return str.lower(x.replace(' ', ''))\n",
    "    else: return ''\n",
    "\n",
    "features = ['cast', 'director', 'genres']\n",
    "\n",
    "for feature in features:\n",
    "  movies[feature] = movies[feature].apply(clean_data)"
   ]
  },
  {
   "cell_type": "code",
   "execution_count": 39,
   "metadata": {},
   "outputs": [
    {
     "data": {
      "text/plain": [
       "0        adventure drama fantasy salvatorepapa arturopi...\n",
       "1        crime drama renénavarre renénavarre edmundbreo...\n",
       "2        drama hildaborgström georggrönroos aronlindgre...\n",
       "3        crime drama renénavarre renénavarre renénavarr...\n",
       "4        crime drama mystery renénavarre renénavarre ed...\n",
       "                               ...                        \n",
       "44982    documentary game-show reality-tv johnhannah ro...\n",
       "44983    drama fikretkuskan denizugur ozandolunay serak...\n",
       "44984    comedy drama hermanfinkers johannatersteege le...\n",
       "44985    thriller sergiocastellitto lorenzorichelmy ann...\n",
       "44986    drama history amaiaaberasturi alexbrendemühl d...\n",
       "Name: soup, Length: 44923, dtype: object"
      ]
     },
     "execution_count": 39,
     "metadata": {},
     "output_type": "execute_result"
    }
   ],
   "source": [
    "def create_soup(x):\n",
    "  return ' '.join(x['genres'].split(',')) + ' ' + ' '.join(x['cast']) + ' ' + x['director'] + x['overview']\n",
    "\n",
    "movies['soup'] = movies.apply(create_soup, axis=1)\n",
    "movies['soup']"
   ]
  },
  {
   "cell_type": "code",
   "execution_count": 40,
   "metadata": {},
   "outputs": [
    {
     "data": {
      "text/plain": [
       "array([5. , 5.1, 5.2, 5.3, 5.4, 5.5, 5.6, 5.7, 5.8, 5.9, 6. , 6.1, 6.2,\n",
       "       6.3, 6.4, 6.5, 6.6, 6.7, 6.8, 6.9, 7. , 7.1, 7.2, 7.3, 7.4, 7.5,\n",
       "       7.6, 7.7, 7.8, 7.9, 8. , 8.1, 8.2, 8.3, 8.4, 8.5, 8.6, 8.7, 8.8,\n",
       "       8.9, 9. , 9.1, 9.2, 9.3, 9.4, 9.5, 9.6, 9.7, 9.8])"
      ]
     },
     "execution_count": 40,
     "metadata": {},
     "output_type": "execute_result"
    }
   ],
   "source": [
    "averages = movies.averageRating.unique()\n",
    "averages.sort()\n",
    "averages"
   ]
  },
  {
   "cell_type": "code",
   "execution_count": 41,
   "metadata": {},
   "outputs": [
    {
     "name": "stdout",
     "output_type": "stream",
     "text": [
      "6.726923847472342 50889.40000000001\n"
     ]
    },
    {
     "data": {
      "text/plain": [
       "(4493, 18)"
      ]
     },
     "execution_count": 41,
     "metadata": {},
     "output_type": "execute_result"
    }
   ],
   "source": [
    "# C = mean votes across all report\n",
    "c = movies['averageRating'].mean()\n",
    "\n",
    "# R = minimum votes to be listed\n",
    "m = movies['numVotes'].quantile(0.90)\n",
    "\n",
    "print(c, m)\n",
    "\n",
    "# get the most voted movies on the list\n",
    "df_movies = movies.copy().loc[movies['numVotes'] >= m]\n",
    "df_movies.shape"
   ]
  },
  {
   "cell_type": "code",
   "execution_count": 42,
   "metadata": {},
   "outputs": [
    {
     "data": {
      "text/html": [
       "<div>\n",
       "<style scoped>\n",
       "    .dataframe tbody tr th:only-of-type {\n",
       "        vertical-align: middle;\n",
       "    }\n",
       "\n",
       "    .dataframe tbody tr th {\n",
       "        vertical-align: top;\n",
       "    }\n",
       "\n",
       "    .dataframe thead th {\n",
       "        text-align: right;\n",
       "    }\n",
       "</style>\n",
       "<table border=\"1\" class=\"dataframe\">\n",
       "  <thead>\n",
       "    <tr style=\"text-align: right;\">\n",
       "      <th></th>\n",
       "      <th>primaryTitle</th>\n",
       "      <th>averageRating</th>\n",
       "      <th>numVotes</th>\n",
       "      <th>score</th>\n",
       "    </tr>\n",
       "  </thead>\n",
       "  <tbody>\n",
       "    <tr>\n",
       "      <th>21560</th>\n",
       "      <td>Breaking Bad</td>\n",
       "      <td>9.5</td>\n",
       "      <td>2126399</td>\n",
       "      <td>9.435185</td>\n",
       "    </tr>\n",
       "    <tr>\n",
       "      <th>11844</th>\n",
       "      <td>The Shawshank Redemption</td>\n",
       "      <td>9.3</td>\n",
       "      <td>2880568</td>\n",
       "      <td>9.255332</td>\n",
       "    </tr>\n",
       "    <tr>\n",
       "      <th>21733</th>\n",
       "      <td>Game of Thrones</td>\n",
       "      <td>9.2</td>\n",
       "      <td>2276108</td>\n",
       "      <td>9.145916</td>\n",
       "    </tr>\n",
       "    <tr>\n",
       "      <th>5788</th>\n",
       "      <td>The Godfather</td>\n",
       "      <td>9.2</td>\n",
       "      <td>2006150</td>\n",
       "      <td>9.138818</td>\n",
       "    </tr>\n",
       "    <tr>\n",
       "      <th>16713</th>\n",
       "      <td>The Wire</td>\n",
       "      <td>9.3</td>\n",
       "      <td>375771</td>\n",
       "      <td>8.993099</td>\n",
       "    </tr>\n",
       "    <tr>\n",
       "      <th>18862</th>\n",
       "      <td>Avatar: The Last Airbender</td>\n",
       "      <td>9.3</td>\n",
       "      <td>369790</td>\n",
       "      <td>8.988736</td>\n",
       "    </tr>\n",
       "    <tr>\n",
       "      <th>27843</th>\n",
       "      <td>Sherlock</td>\n",
       "      <td>9.1</td>\n",
       "      <td>994697</td>\n",
       "      <td>8.984501</td>\n",
       "    </tr>\n",
       "    <tr>\n",
       "      <th>19974</th>\n",
       "      <td>The Dark Knight</td>\n",
       "      <td>9.0</td>\n",
       "      <td>2863134</td>\n",
       "      <td>8.960304</td>\n",
       "    </tr>\n",
       "    <tr>\n",
       "      <th>13735</th>\n",
       "      <td>The Sopranos</td>\n",
       "      <td>9.2</td>\n",
       "      <td>468069</td>\n",
       "      <td>8.957489</td>\n",
       "    </tr>\n",
       "    <tr>\n",
       "      <th>14180</th>\n",
       "      <td>The Lord of the Rings: The Return of the King</td>\n",
       "      <td>9.0</td>\n",
       "      <td>1973934</td>\n",
       "      <td>8.942871</td>\n",
       "    </tr>\n",
       "  </tbody>\n",
       "</table>\n",
       "</div>"
      ],
      "text/plain": [
       "                                        primaryTitle  averageRating  numVotes  \\\n",
       "21560                                   Breaking Bad            9.5   2126399   \n",
       "11844                       The Shawshank Redemption            9.3   2880568   \n",
       "21733                                Game of Thrones            9.2   2276108   \n",
       "5788                                   The Godfather            9.2   2006150   \n",
       "16713                                       The Wire            9.3    375771   \n",
       "18862                     Avatar: The Last Airbender            9.3    369790   \n",
       "27843                                       Sherlock            9.1    994697   \n",
       "19974                                The Dark Knight            9.0   2863134   \n",
       "13735                                   The Sopranos            9.2    468069   \n",
       "14180  The Lord of the Rings: The Return of the King            9.0   1973934   \n",
       "\n",
       "          score  \n",
       "21560  9.435185  \n",
       "11844  9.255332  \n",
       "21733  9.145916  \n",
       "5788   9.138818  \n",
       "16713  8.993099  \n",
       "18862  8.988736  \n",
       "27843  8.984501  \n",
       "19974  8.960304  \n",
       "13735  8.957489  \n",
       "14180  8.942871  "
      ]
     },
     "execution_count": 42,
     "metadata": {},
     "output_type": "execute_result"
    }
   ],
   "source": [
    "# function to calculate the weighted ratings from imdb formula\n",
    "def weighted_ratings(x, m=m, c=c):\n",
    "  v = x['numVotes']\n",
    "  R = x['averageRating']\n",
    "\n",
    "  return (v / (v+m) * R) + (m / (m+v) * c)\n",
    "\n",
    "# defining a new feature 'score' and calculating its value with\n",
    "df_movies['score'] = df_movies.apply(weighted_ratings, axis=1)\n",
    "\n",
    "# sort values from scores and show the top 10 movies\n",
    "df_movies = df_movies.sort_values('score', ascending=False)\n",
    "df_movies[['primaryTitle', 'averageRating', 'numVotes', 'score']].head(10)"
   ]
  },
  {
   "cell_type": "code",
   "execution_count": 43,
   "metadata": {},
   "outputs": [],
   "source": [
    "def remove_special_chars(x: str) -> str:\n",
    "    return unidecode(x)\n",
    "\n",
    "df_movies['soup'] = df_movies.soup.apply(remove_special_chars)"
   ]
  },
  {
   "cell_type": "markdown",
   "metadata": {},
   "source": [
    "### Create Model"
   ]
  },
  {
   "cell_type": "code",
   "execution_count": 44,
   "metadata": {},
   "outputs": [],
   "source": [
    "stopwords = nltk.corpus.stopwords.words('portuguese')\n",
    "\n",
    "vectorizer = CountVectorizer(stop_words=stopwords)\n",
    "matrix = vectorizer.fit_transform(df_movies['soup'])\n",
    "\n",
    "cousine_sim2 = cosine_similarity(matrix, matrix)"
   ]
  },
  {
   "cell_type": "code",
   "execution_count": 45,
   "metadata": {},
   "outputs": [],
   "source": [
    "df_movies.reset_index(drop=True, inplace=True)"
   ]
  },
  {
   "cell_type": "code",
   "execution_count": 46,
   "metadata": {},
   "outputs": [],
   "source": [
    "from typing import List, TypeVar\n",
    "T = TypeVar('T')\n",
    "\n",
    "indices = pd.Series(df_movies.index, index=df_movies['tconst'])\n",
    "\n",
    "def get_recomendation(tconst, cosine_sim=cousine_sim2):\n",
    "  idx = indices[tconst]\n",
    "\n",
    "  sim_scores = list(enumerate(cosine_sim[idx]))\n",
    "\n",
    "  sim_scores = sorted(sim_scores, key=lambda x: x[1], reverse=True)\n",
    "\n",
    "  sim_scores = sim_scores[1:11]\n",
    "\n",
    "  movie_indices = [i[0] for i in sim_scores]\n",
    "\n",
    "  return df_movies[['primaryTitle_ptBr', 'titleType']].iloc[movie_indices]"
   ]
  },
  {
   "cell_type": "code",
   "execution_count": 47,
   "metadata": {},
   "outputs": [
    {
     "data": {
      "text/html": [
       "<div>\n",
       "<style scoped>\n",
       "    .dataframe tbody tr th:only-of-type {\n",
       "        vertical-align: middle;\n",
       "    }\n",
       "\n",
       "    .dataframe tbody tr th {\n",
       "        vertical-align: top;\n",
       "    }\n",
       "\n",
       "    .dataframe thead th {\n",
       "        text-align: right;\n",
       "    }\n",
       "</style>\n",
       "<table border=\"1\" class=\"dataframe\">\n",
       "  <thead>\n",
       "    <tr style=\"text-align: right;\">\n",
       "      <th></th>\n",
       "      <th>primaryTitle_ptBr</th>\n",
       "      <th>titleType</th>\n",
       "    </tr>\n",
       "  </thead>\n",
       "  <tbody>\n",
       "    <tr>\n",
       "      <th>54</th>\n",
       "      <td>Duna: Parte 2</td>\n",
       "      <td>movie</td>\n",
       "    </tr>\n",
       "    <tr>\n",
       "      <th>2967</th>\n",
       "      <td>Melanie - A Última Esperança</td>\n",
       "      <td>movie</td>\n",
       "    </tr>\n",
       "    <tr>\n",
       "      <th>1348</th>\n",
       "      <td>Planeta dos Macacos: A Guerra</td>\n",
       "      <td>movie</td>\n",
       "    </tr>\n",
       "    <tr>\n",
       "      <th>2917</th>\n",
       "      <td>O Projeto Adam</td>\n",
       "      <td>movie</td>\n",
       "    </tr>\n",
       "    <tr>\n",
       "      <th>1026</th>\n",
       "      <td>Da Vinci's Demons</td>\n",
       "      <td>tvSeries</td>\n",
       "    </tr>\n",
       "    <tr>\n",
       "      <th>0</th>\n",
       "      <td>Breaking Bad</td>\n",
       "      <td>tvSeries</td>\n",
       "    </tr>\n",
       "    <tr>\n",
       "      <th>1821</th>\n",
       "      <td>Perdidos no Espaço</td>\n",
       "      <td>tvSeries</td>\n",
       "    </tr>\n",
       "    <tr>\n",
       "      <th>2674</th>\n",
       "      <td>Enola Holmes 2</td>\n",
       "      <td>movie</td>\n",
       "    </tr>\n",
       "    <tr>\n",
       "      <th>854</th>\n",
       "      <td>Minority Report - A Nova Lei</td>\n",
       "      <td>movie</td>\n",
       "    </tr>\n",
       "    <tr>\n",
       "      <th>2966</th>\n",
       "      <td>Titan A.E.</td>\n",
       "      <td>movie</td>\n",
       "    </tr>\n",
       "  </tbody>\n",
       "</table>\n",
       "</div>"
      ],
      "text/plain": [
       "                  primaryTitle_ptBr titleType\n",
       "54                    Duna: Parte 2     movie\n",
       "2967   Melanie - A Última Esperança     movie\n",
       "1348  Planeta dos Macacos: A Guerra     movie\n",
       "2917                 O Projeto Adam     movie\n",
       "1026              Da Vinci's Demons  tvSeries\n",
       "0                      Breaking Bad  tvSeries\n",
       "1821             Perdidos no Espaço  tvSeries\n",
       "2674                 Enola Holmes 2     movie\n",
       "854    Minority Report - A Nova Lei     movie\n",
       "2966                     Titan A.E.     movie"
      ]
     },
     "execution_count": 47,
     "metadata": {},
     "output_type": "execute_result"
    }
   ],
   "source": [
    "get_recomendation('tt1160419')"
   ]
  },
  {
   "cell_type": "code",
   "execution_count": 48,
   "metadata": {},
   "outputs": [
    {
     "data": {
      "text/html": [
       "<div>\n",
       "<style scoped>\n",
       "    .dataframe tbody tr th:only-of-type {\n",
       "        vertical-align: middle;\n",
       "    }\n",
       "\n",
       "    .dataframe tbody tr th {\n",
       "        vertical-align: top;\n",
       "    }\n",
       "\n",
       "    .dataframe thead th {\n",
       "        text-align: right;\n",
       "    }\n",
       "</style>\n",
       "<table border=\"1\" class=\"dataframe\">\n",
       "  <thead>\n",
       "    <tr style=\"text-align: right;\">\n",
       "      <th></th>\n",
       "      <th>tconst</th>\n",
       "      <th>titleType</th>\n",
       "      <th>primaryTitle</th>\n",
       "      <th>primaryTitle_ptBr</th>\n",
       "      <th>overview</th>\n",
       "      <th>genres</th>\n",
       "      <th>principals</th>\n",
       "      <th>crew</th>\n",
       "      <th>startYear</th>\n",
       "      <th>runtimeMinutes</th>\n",
       "      <th>averageRating</th>\n",
       "      <th>numVotes</th>\n",
       "      <th>isAdult</th>\n",
       "      <th>imdb_link</th>\n",
       "      <th>image_url</th>\n",
       "      <th>director</th>\n",
       "      <th>cast</th>\n",
       "      <th>soup</th>\n",
       "      <th>score</th>\n",
       "    </tr>\n",
       "  </thead>\n",
       "  <tbody>\n",
       "    <tr>\n",
       "      <th>3357</th>\n",
       "      <td>tt0319262</td>\n",
       "      <td>movie</td>\n",
       "      <td>The Day After Tomorrow</td>\n",
       "      <td>O Dia Depois de Amanhã</td>\n",
       "      <td>Jack Hall, paleoclimatologista, deve fazer um ...</td>\n",
       "      <td>action,adventure,sci-fi</td>\n",
       "      <td>[{'nconst': 'nm0000598', 'primaryName': 'Denni...</td>\n",
       "      <td>[{'nconst': 'nm0000386', 'primaryName': 'Rolan...</td>\n",
       "      <td>2004</td>\n",
       "      <td>124</td>\n",
       "      <td>6.5</td>\n",
       "      <td>475210</td>\n",
       "      <td>0</td>\n",
       "      <td>https://www.imdb.com/title/tt0319262/?ref_=sr_...</td>\n",
       "      <td>https://m.media-amazon.com/images/M/MV5BZmY3M2...</td>\n",
       "      <td>rolandemmerich</td>\n",
       "      <td>[dennisquaid, jakegyllenhaal, emmyrossum, dash...</td>\n",
       "      <td>action adventure sci-fi dennisquaid jakegyllen...</td>\n",
       "      <td>6.52195</td>\n",
       "    </tr>\n",
       "  </tbody>\n",
       "</table>\n",
       "</div>"
      ],
      "text/plain": [
       "         tconst titleType            primaryTitle       primaryTitle_ptBr  \\\n",
       "3357  tt0319262     movie  The Day After Tomorrow  O Dia Depois de Amanhã   \n",
       "\n",
       "                                               overview  \\\n",
       "3357  Jack Hall, paleoclimatologista, deve fazer um ...   \n",
       "\n",
       "                       genres  \\\n",
       "3357  action,adventure,sci-fi   \n",
       "\n",
       "                                             principals  \\\n",
       "3357  [{'nconst': 'nm0000598', 'primaryName': 'Denni...   \n",
       "\n",
       "                                                   crew  startYear  \\\n",
       "3357  [{'nconst': 'nm0000386', 'primaryName': 'Rolan...       2004   \n",
       "\n",
       "     runtimeMinutes  averageRating  numVotes  isAdult  \\\n",
       "3357            124            6.5    475210        0   \n",
       "\n",
       "                                              imdb_link  \\\n",
       "3357  https://www.imdb.com/title/tt0319262/?ref_=sr_...   \n",
       "\n",
       "                                              image_url        director  \\\n",
       "3357  https://m.media-amazon.com/images/M/MV5BZmY3M2...  rolandemmerich   \n",
       "\n",
       "                                                   cast  \\\n",
       "3357  [dennisquaid, jakegyllenhaal, emmyrossum, dash...   \n",
       "\n",
       "                                                   soup    score  \n",
       "3357  action adventure sci-fi dennisquaid jakegyllen...  6.52195  "
      ]
     },
     "execution_count": 48,
     "metadata": {},
     "output_type": "execute_result"
    }
   ],
   "source": [
    "df_movies.loc[df_movies.primaryTitle_ptBr.str.lower().str.contains('o dia depois')]"
   ]
  },
  {
   "cell_type": "code",
   "execution_count": 50,
   "metadata": {},
   "outputs": [],
   "source": [
    "# save movies df and cousine_sim to disk\n",
    "import numpy as np\n",
    "from numpy import savez_compressed\n",
    "\n",
    "df_movies.to_csv('../data/movies.tsv', sep='\\t', index=False)\n",
    "savez_compressed('../data/cousine_sim.npz', cousine_sim2)"
   ]
  },
  {
   "cell_type": "code",
   "execution_count": null,
   "metadata": {},
   "outputs": [],
   "source": []
  }
 ],
 "metadata": {
  "kernelspec": {
   "display_name": ".venv",
   "language": "python",
   "name": "python3"
  },
  "language_info": {
   "codemirror_mode": {
    "name": "ipython",
    "version": 3
   },
   "file_extension": ".py",
   "mimetype": "text/x-python",
   "name": "python",
   "nbconvert_exporter": "python",
   "pygments_lexer": "ipython3",
   "version": "3.11.2"
  }
 },
 "nbformat": 4,
 "nbformat_minor": 2
}
